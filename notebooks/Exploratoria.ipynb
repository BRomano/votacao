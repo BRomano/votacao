{
 "cells": [
  {
   "cell_type": "markdown",
   "metadata": {},
   "source": [
    "Com esse trabalho pretendo demonstrar a ideia de transferencia de voto, o quanto um prefeito eleito a 2 anos antes pode influenciar nos votos para um deputado ou um governador, bem como a ideia de transferencia de voto quando 2 politicos se apoiam mutuamente, exemplo um deputado e um governador na mesma eleição."
   ]
  },
  {
   "cell_type": "code",
   "execution_count": 3,
   "metadata": {
    "collapsed": false
   },
   "outputs": [
    {
     "data": {
      "text/html": [
       "<div>\n",
       "<style>\n",
       "    .dataframe thead tr:only-child th {\n",
       "        text-align: right;\n",
       "    }\n",
       "\n",
       "    .dataframe thead th {\n",
       "        text-align: left;\n",
       "    }\n",
       "\n",
       "    .dataframe tbody tr th {\n",
       "        vertical-align: top;\n",
       "    }\n",
       "</style>\n",
       "<table border=\"1\" class=\"dataframe\">\n",
       "  <thead>\n",
       "    <tr style=\"text-align: right;\">\n",
       "      <th></th>\n",
       "      <th>NUM_TURNO</th>\n",
       "      <th>SIGLA_UE</th>\n",
       "      <th>MUN_COD</th>\n",
       "      <th>NUM_ZONA</th>\n",
       "      <th>NUM_SECAO</th>\n",
       "      <th>CARGO_COD</th>\n",
       "      <th>NUM_VOTAVEL</th>\n",
       "      <th>QTD_VOTOS</th>\n",
       "    </tr>\n",
       "  </thead>\n",
       "  <tbody>\n",
       "    <tr>\n",
       "      <th>0</th>\n",
       "      <td>1</td>\n",
       "      <td>PR</td>\n",
       "      <td>74004</td>\n",
       "      <td>132</td>\n",
       "      <td>41</td>\n",
       "      <td>1</td>\n",
       "      <td>27</td>\n",
       "      <td>1</td>\n",
       "    </tr>\n",
       "    <tr>\n",
       "      <th>1</th>\n",
       "      <td>1</td>\n",
       "      <td>PR</td>\n",
       "      <td>74004</td>\n",
       "      <td>132</td>\n",
       "      <td>41</td>\n",
       "      <td>1</td>\n",
       "      <td>43</td>\n",
       "      <td>8</td>\n",
       "    </tr>\n",
       "    <tr>\n",
       "      <th>2</th>\n",
       "      <td>1</td>\n",
       "      <td>PR</td>\n",
       "      <td>74004</td>\n",
       "      <td>132</td>\n",
       "      <td>41</td>\n",
       "      <td>1</td>\n",
       "      <td>45</td>\n",
       "      <td>74</td>\n",
       "    </tr>\n",
       "    <tr>\n",
       "      <th>3</th>\n",
       "      <td>1</td>\n",
       "      <td>PR</td>\n",
       "      <td>74004</td>\n",
       "      <td>132</td>\n",
       "      <td>41</td>\n",
       "      <td>1</td>\n",
       "      <td>96</td>\n",
       "      <td>12</td>\n",
       "    </tr>\n",
       "    <tr>\n",
       "      <th>4</th>\n",
       "      <td>1</td>\n",
       "      <td>PR</td>\n",
       "      <td>74004</td>\n",
       "      <td>132</td>\n",
       "      <td>41</td>\n",
       "      <td>3</td>\n",
       "      <td>12</td>\n",
       "      <td>134</td>\n",
       "    </tr>\n",
       "  </tbody>\n",
       "</table>\n",
       "</div>"
      ],
      "text/plain": [
       "<div>\n",
       "<style>\n",
       "    .dataframe thead tr:only-child th {\n",
       "        text-align: right;\n",
       "    }\n",
       "\n",
       "    .dataframe thead th {\n",
       "        text-align: left;\n",
       "    }\n",
       "\n",
       "    .dataframe tbody tr th {\n",
       "        vertical-align: top;\n",
       "    }\n",
       "</style>\n",
       "<table border=\"1\" class=\"dataframe\">\n",
       "  <thead>\n",
       "    <tr style=\"text-align: right;\">\n",
       "      <th></th>\n",
       "      <th>NUM_TURNO</th>\n",
       "      <th>SIGLA_UE</th>\n",
       "      <th>MUN_COD</th>\n",
       "      <th>NUM_ZONA</th>\n",
       "      <th>NUM_SECAO</th>\n",
       "      <th>CARGO_COD</th>\n",
       "      <th>NUM_VOTAVEL</th>\n",
       "      <th>QTD_VOTOS</th>\n",
       "    </tr>\n",
       "  </thead>\n",
       "  <tbody>\n",
       "    <tr>\n",
       "      <th>0</th>\n",
       "      <td>1</td>\n",
       "      <td>PR</td>\n",
       "      <td>74004</td>\n",
       "      <td>132</td>\n",
       "      <td>41</td>\n",
       "      <td>1</td>\n",
       "      <td>27</td>\n",
       "      <td>1</td>\n",
       "    </tr>\n",
       "    <tr>\n",
       "      <th>1</th>\n",
       "      <td>1</td>\n",
       "      <td>PR</td>\n",
       "      <td>74004</td>\n",
       "      <td>132</td>\n",
       "      <td>41</td>\n",
       "      <td>1</td>\n",
       "      <td>43</td>\n",
       "      <td>8</td>\n",
       "    </tr>\n",
       "    <tr>\n",
       "      <th>2</th>\n",
       "      <td>1</td>\n",
       "      <td>PR</td>\n",
       "      <td>74004</td>\n",
       "      <td>132</td>\n",
       "      <td>41</td>\n",
       "      <td>1</td>\n",
       "      <td>45</td>\n",
       "      <td>74</td>\n",
       "    </tr>\n",
       "    <tr>\n",
       "      <th>3</th>\n",
       "      <td>1</td>\n",
       "      <td>PR</td>\n",
       "      <td>74004</td>\n",
       "      <td>132</td>\n",
       "      <td>41</td>\n",
       "      <td>1</td>\n",
       "      <td>96</td>\n",
       "      <td>12</td>\n",
       "    </tr>\n",
       "    <tr>\n",
       "      <th>4</th>\n",
       "      <td>1</td>\n",
       "      <td>PR</td>\n",
       "      <td>74004</td>\n",
       "      <td>132</td>\n",
       "      <td>41</td>\n",
       "      <td>3</td>\n",
       "      <td>12</td>\n",
       "      <td>134</td>\n",
       "    </tr>\n",
       "  </tbody>\n",
       "</table>\n",
       "</div>"
      ]
     },
     "execution_count": 3,
     "metadata": {},
     "output_type": "execute_result"
    }
   ],
   "source": [
    "import pandas as pd #Para criarmos dataframes\n",
    "from votacao_utils import *\n",
    "\n",
    "votacao = load_data_votacao('data/votacao_secao_2010_PR.txt')\n",
    "votacao.head(5)"
   ]
  },
  {
   "cell_type": "markdown",
   "metadata": {},
   "source": []
  },
  {
   "cell_type": "markdown",
   "metadata": {},
   "source": [
    "Limpeza os votos brancos, nulos e exceções que são os votos de numero 95, 96 e 97"
   ]
  },
  {
   "cell_type": "code",
   "execution_count": 4,
   "metadata": {
    "scrolled": false
   },
   "outputs": [],
   "source": [
    "votacao.drop(votacao[votacao['NUM_VOTAVEL'] == 97].index, inplace=True, axis=0)\n",
    "votacao.drop(votacao[votacao['NUM_VOTAVEL'] == 96].index, inplace=True, axis=0)\n",
    "votacao.drop(votacao[votacao['NUM_VOTAVEL'] == 95].index, inplace=True, axis=0)"
   ]
  },
  {
   "cell_type": "markdown",
   "metadata": {},
   "source": [
    "Ao chamar dtypes, verificamos que os tipos aplicados estão corretos."
   ]
  },
  {
   "cell_type": "code",
   "execution_count": 5,
   "metadata": {},
   "outputs": [
    {
     "data": {
      "text/plain": [
       "NUM_TURNO       int64\nSIGLA_UE       object\nMUN_COD         int64\nNUM_ZONA        int64\nNUM_SECAO       int64\nCARGO_COD       int64\nNUM_VOTAVEL     int64\nQTD_VOTOS       int64\ndtype: object"
      ]
     },
     "execution_count": 5,
     "metadata": {},
     "output_type": "execute_result"
    }
   ],
   "source": [
    "votacao.dtypes"
   ]
  },
  {
   "cell_type": "markdown",
   "metadata": {},
   "source": [
    "A funcao describe() se mostrou pouco produtiva para a coleção de dados de votação, "
   ]
  },
  {
   "cell_type": "code",
   "execution_count": 6,
   "metadata": {
    "collapsed": false
   },
   "outputs": [
    {
     "data": {
      "text/html": [
       "<div>\n",
       "<style>\n",
       "    .dataframe thead tr:only-child th {\n",
       "        text-align: right;\n",
       "    }\n",
       "\n",
       "    .dataframe thead th {\n",
       "        text-align: left;\n",
       "    }\n",
       "\n",
       "    .dataframe tbody tr th {\n",
       "        vertical-align: top;\n",
       "    }\n",
       "</style>\n",
       "<table border=\"1\" class=\"dataframe\">\n",
       "  <thead>\n",
       "    <tr style=\"text-align: right;\">\n",
       "      <th></th>\n",
       "      <th>NUM_TURNO</th>\n",
       "      <th>MUN_COD</th>\n",
       "      <th>NUM_ZONA</th>\n",
       "      <th>NUM_SECAO</th>\n",
       "      <th>CARGO_COD</th>\n",
       "      <th>NUM_VOTAVEL</th>\n",
       "      <th>QTD_VOTOS</th>\n",
       "    </tr>\n",
       "  </thead>\n",
       "  <tbody>\n",
       "    <tr>\n",
       "      <th>count</th>\n",
       "      <td>2.480702e+06</td>\n",
       "      <td>2.480702e+06</td>\n",
       "      <td>2.480702e+06</td>\n",
       "      <td>2.480702e+06</td>\n",
       "      <td>2.480702e+06</td>\n",
       "      <td>2.480702e+06</td>\n",
       "      <td>2.480702e+06</td>\n",
       "    </tr>\n",
       "    <tr>\n",
       "      <th>mean</th>\n",
       "      <td>1.019176e+00</td>\n",
       "      <td>7.633960e+04</td>\n",
       "      <td>1.051968e+02</td>\n",
       "      <td>1.408137e+02</td>\n",
       "      <td>5.985276e+00</td>\n",
       "      <td>1.053017e+04</td>\n",
       "      <td>1.608486e+01</td>\n",
       "    </tr>\n",
       "    <tr>\n",
       "      <th>std</th>\n",
       "      <td>1.371420e-01</td>\n",
       "      <td>1.791338e+03</td>\n",
       "      <td>6.905091e+01</td>\n",
       "      <td>1.431242e+02</td>\n",
       "      <td>1.534588e+00</td>\n",
       "      <td>1.446957e+04</td>\n",
       "      <td>3.699980e+01</td>\n",
       "    </tr>\n",
       "    <tr>\n",
       "      <th>min</th>\n",
       "      <td>1.000000e+00</td>\n",
       "      <td>7.400400e+04</td>\n",
       "      <td>1.000000e+00</td>\n",
       "      <td>1.000000e+00</td>\n",
       "      <td>1.000000e+00</td>\n",
       "      <td>1.000000e+01</td>\n",
       "      <td>1.000000e+00</td>\n",
       "    </tr>\n",
       "    <tr>\n",
       "      <th>25%</th>\n",
       "      <td>1.000000e+00</td>\n",
       "      <td>7.535300e+04</td>\n",
       "      <td>4.100000e+01</td>\n",
       "      <td>4.100000e+01</td>\n",
       "      <td>6.000000e+00</td>\n",
       "      <td>1.110000e+02</td>\n",
       "      <td>1.000000e+00</td>\n",
       "    </tr>\n",
       "    <tr>\n",
       "      <th>50%</th>\n",
       "      <td>1.000000e+00</td>\n",
       "      <td>7.541800e+04</td>\n",
       "      <td>1.150000e+02</td>\n",
       "      <td>9.300000e+01</td>\n",
       "      <td>6.000000e+00</td>\n",
       "      <td>2.505000e+03</td>\n",
       "      <td>2.000000e+00</td>\n",
       "    </tr>\n",
       "    <tr>\n",
       "      <th>75%</th>\n",
       "      <td>1.000000e+00</td>\n",
       "      <td>7.739900e+04</td>\n",
       "      <td>1.740000e+02</td>\n",
       "      <td>1.860000e+02</td>\n",
       "      <td>7.000000e+00</td>\n",
       "      <td>1.517800e+04</td>\n",
       "      <td>7.000000e+00</td>\n",
       "    </tr>\n",
       "    <tr>\n",
       "      <th>max</th>\n",
       "      <td>2.000000e+00</td>\n",
       "      <td>8.471900e+04</td>\n",
       "      <td>2.060000e+02</td>\n",
       "      <td>7.530000e+02</td>\n",
       "      <td>7.000000e+00</td>\n",
       "      <td>7.077700e+04</td>\n",
       "      <td>2.930000e+02</td>\n",
       "    </tr>\n",
       "  </tbody>\n",
       "</table>\n",
       "</div>"
      ],
      "text/plain": [
       "<div>\n",
       "<style>\n",
       "    .dataframe thead tr:only-child th {\n",
       "        text-align: right;\n",
       "    }\n",
       "\n",
       "    .dataframe thead th {\n",
       "        text-align: left;\n",
       "    }\n",
       "\n",
       "    .dataframe tbody tr th {\n",
       "        vertical-align: top;\n",
       "    }\n",
       "</style>\n",
       "<table border=\"1\" class=\"dataframe\">\n",
       "  <thead>\n",
       "    <tr style=\"text-align: right;\">\n",
       "      <th></th>\n",
       "      <th>NUM_TURNO</th>\n",
       "      <th>MUN_COD</th>\n",
       "      <th>NUM_ZONA</th>\n",
       "      <th>NUM_SECAO</th>\n",
       "      <th>CARGO_COD</th>\n",
       "      <th>NUM_VOTAVEL</th>\n",
       "      <th>QTD_VOTOS</th>\n",
       "    </tr>\n",
       "  </thead>\n",
       "  <tbody>\n",
       "    <tr>\n",
       "      <th>count</th>\n",
       "      <td>2.480702e+06</td>\n",
       "      <td>2.480702e+06</td>\n",
       "      <td>2.480702e+06</td>\n",
       "      <td>2.480702e+06</td>\n",
       "      <td>2.480702e+06</td>\n",
       "      <td>2.480702e+06</td>\n",
       "      <td>2.480702e+06</td>\n",
       "    </tr>\n",
       "    <tr>\n",
       "      <th>mean</th>\n",
       "      <td>1.019176e+00</td>\n",
       "      <td>7.633960e+04</td>\n",
       "      <td>1.051968e+02</td>\n",
       "      <td>1.408137e+02</td>\n",
       "      <td>5.985276e+00</td>\n",
       "      <td>1.053017e+04</td>\n",
       "      <td>1.608486e+01</td>\n",
       "    </tr>\n",
       "    <tr>\n",
       "      <th>std</th>\n",
       "      <td>1.371420e-01</td>\n",
       "      <td>1.791338e+03</td>\n",
       "      <td>6.905091e+01</td>\n",
       "      <td>1.431242e+02</td>\n",
       "      <td>1.534588e+00</td>\n",
       "      <td>1.446957e+04</td>\n",
       "      <td>3.699980e+01</td>\n",
       "    </tr>\n",
       "    <tr>\n",
       "      <th>min</th>\n",
       "      <td>1.000000e+00</td>\n",
       "      <td>7.400400e+04</td>\n",
       "      <td>1.000000e+00</td>\n",
       "      <td>1.000000e+00</td>\n",
       "      <td>1.000000e+00</td>\n",
       "      <td>1.000000e+01</td>\n",
       "      <td>1.000000e+00</td>\n",
       "    </tr>\n",
       "    <tr>\n",
       "      <th>25%</th>\n",
       "      <td>1.000000e+00</td>\n",
       "      <td>7.535300e+04</td>\n",
       "      <td>4.100000e+01</td>\n",
       "      <td>4.100000e+01</td>\n",
       "      <td>6.000000e+00</td>\n",
       "      <td>1.110000e+02</td>\n",
       "      <td>1.000000e+00</td>\n",
       "    </tr>\n",
       "    <tr>\n",
       "      <th>50%</th>\n",
       "      <td>1.000000e+00</td>\n",
       "      <td>7.541800e+04</td>\n",
       "      <td>1.150000e+02</td>\n",
       "      <td>9.300000e+01</td>\n",
       "      <td>6.000000e+00</td>\n",
       "      <td>2.505000e+03</td>\n",
       "      <td>2.000000e+00</td>\n",
       "    </tr>\n",
       "    <tr>\n",
       "      <th>75%</th>\n",
       "      <td>1.000000e+00</td>\n",
       "      <td>7.739900e+04</td>\n",
       "      <td>1.740000e+02</td>\n",
       "      <td>1.860000e+02</td>\n",
       "      <td>7.000000e+00</td>\n",
       "      <td>1.517800e+04</td>\n",
       "      <td>7.000000e+00</td>\n",
       "    </tr>\n",
       "    <tr>\n",
       "      <th>max</th>\n",
       "      <td>2.000000e+00</td>\n",
       "      <td>8.471900e+04</td>\n",
       "      <td>2.060000e+02</td>\n",
       "      <td>7.530000e+02</td>\n",
       "      <td>7.000000e+00</td>\n",
       "      <td>7.077700e+04</td>\n",
       "      <td>2.930000e+02</td>\n",
       "    </tr>\n",
       "  </tbody>\n",
       "</table>\n",
       "</div>"
      ]
     },
     "execution_count": 6,
     "metadata": {},
     "output_type": "execute_result"
    }
   ],
   "source": [
    "votacao.describe()\n"
   ]
  },
  {
   "cell_type": "markdown",
   "metadata": {},
   "source": []
  },
  {
   "cell_type": "code",
   "execution_count": 7,
   "metadata": {},
   "outputs": [
    {
     "data": {
      "text/plain": [
       "(2480702, 8)"
      ]
     },
     "execution_count": 7,
     "metadata": {},
     "output_type": "execute_result"
    }
   ],
   "source": [
    "votacao.shape"
   ]
  },
  {
   "cell_type": "markdown",
   "metadata": {},
   "source": [
    "Abaixo separamos o resultado eleitoral do ano de 2010 entre governadores e senadores. Ao consultar com os resultados oficiais na internet é verificado que os valores estão de acordo."
   ]
  },
  {
   "cell_type": "code",
   "execution_count": 8,
   "metadata": {
    "collapsed": true
   },
   "outputs": [
    {
     "data": {
      "text/plain": [
       "<matplotlib.axes._subplots.AxesSubplot at 0x23aa1750550>"
      ]
     },
     "execution_count": 8,
     "metadata": {},
     "output_type": "execute_result"
    },
    {
     "data": {
      "image/png": "[encoded data removed]",
      "text/plain": [
       "<matplotlib.figure.Figure at 0x23a87294828>"
      ]
     },
     "metadata": {},
     "output_type": "display_data"
    }
   ],
   "source": [
    "%matplotlib inline\n",
    "import numpy as np\n",
    "import matplotlib.pyplot as plt\n",
    "\n",
    "governador = votacao[votacao['CARGO_COD'] == 3]\n",
    "governador.groupby('NUM_VOTAVEL').sum()['QTD_VOTOS'].plot(kind='bar')"
   ]
  },
  {
   "cell_type": "code",
   "execution_count": 9,
   "metadata": {
    "collapsed": true
   },
   "outputs": [
    {
     "data": {
      "text/plain": [
       "<matplotlib.axes._subplots.AxesSubplot at 0x23af0390eb8>"
      ]
     },
     "execution_count": 9,
     "metadata": {},
     "output_type": "execute_result"
    },
    {
     "data": {
      "image/png": "[encoded data removed]",
      "text/plain": [
       "<matplotlib.figure.Figure at 0x23a876608d0>"
      ]
     },
     "metadata": {},
     "output_type": "display_data"
    }
   ],
   "source": [
    "senador = votacao[votacao['CARGO_COD'] == 5]\n",
    "senador.groupby('NUM_VOTAVEL').sum()['QTD_VOTOS'].plot(kind='bar')"
   ]
  },
  {
   "cell_type": "code",
   "execution_count": 10,
   "metadata": {},
   "outputs": [
    {
     "data": {
      "text/plain": [
       "<matplotlib.axes._subplots.AxesSubplot at 0x23a872009b0>"
      ]
     },
     "execution_count": 10,
     "metadata": {},
     "output_type": "execute_result"
    },
    {
     "data": {
      "image/png": "[encoded data removed]",
      "text/plain": [
       "<matplotlib.figure.Figure at 0x23a871b0d30>"
      ]
     },
     "metadata": {},
     "output_type": "display_data"
    }
   ],
   "source": [
    "senador = votacao[votacao['CARGO_COD'] == 6]\n",
    "senador.groupby('NUM_VOTAVEL').sum()['QTD_VOTOS'].sort_values(ascending=False).nlargest(15).plot(kind='bar')"
   ]
  },
  {
   "cell_type": "markdown",
   "metadata": {},
   "source": [
    ""
   ]
  }
 ],
 "metadata": {
  "kernelspec": {
   "display_name": "Python 3",
   "language": "python",
   "name": "python3"
  },
  "language_info": {
   "codemirror_mode": {
    "name": "ipython",
    "version": 3
   },
   "file_extension": ".py",
   "mimetype": "text/x-python",
   "name": "python",
   "nbconvert_exporter": "python",
   "pygments_lexer": "ipython3",
   "version": "3.6.1"
  }
 },
 "nbformat": 4,
 "nbformat_minor": 1
}
